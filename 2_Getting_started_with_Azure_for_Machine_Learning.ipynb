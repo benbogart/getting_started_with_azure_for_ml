{
 "cells": [
  {
   "cell_type": "markdown",
   "id": "posted-rates",
   "metadata": {},
   "source": [
    "# Notebook # 2\n",
    "\n",
    "This is the second notebook in the supporting material for the medium article [Train on Cloud GPUs with Azure Machine Learning SDK for Python](https://medium.com/p/967c99418df1/)\n",
    "\n",
    "For the sake of clarity all packages and modules are imported in the cells in which they are used."
   ]
  },
  {
   "cell_type": "markdown",
   "id": "close-modification",
   "metadata": {},
   "source": [
    "# Load all assets.\n",
    "Load in the assets we created in the previous notebook"
   ]
  },
  {
   "cell_type": "code",
   "execution_count": 1,
   "id": "alien-remark",
   "metadata": {},
   "outputs": [],
   "source": [
    "from azureml.core import Workspace, Dataset, Environment\n",
    "\n",
    "# Load the stored workspace\n",
    "ws = Workspace.from_config()\n",
    "\n",
    "# Get the registered dataset from azure\n",
    "dataset = Dataset.get_by_name(ws, name='waste_images')\n",
    "\n",
    "## Try with our saved image\n",
    "env = Environment.get(workspace=ws, name=\"waste-env-gpu\")\n",
    "\n",
    "# get our compute target\n",
    "compute_target = ws.compute_targets[\"gpu-cluster-NC6\"]"
   ]
  },
  {
   "cell_type": "markdown",
   "id": "front-powder",
   "metadata": {},
   "source": [
    "## Define experiment name\n",
    "An experiment is a container for one or more model runs.  You can group iterations of a model into an experiment for easy access on azureml Studio.  Every run must be in an experiment."
   ]
  },
  {
   "cell_type": "code",
   "execution_count": 2,
   "id": "consecutive-biotechnology",
   "metadata": {},
   "outputs": [],
   "source": [
    "from azureml.core import Experiment\n",
    "\n",
    "# define the expiriment\n",
    "exp = Experiment(workspace=ws, name='recycling')"
   ]
  },
  {
   "cell_type": "markdown",
   "id": "fifth-lesson",
   "metadata": {},
   "source": [
    "## Create train script\n",
    "The train script is what will be executed on the azureml compute instance.  The directory specified will be uploaded and other assets or modules can be included in that directory."
   ]
  },
  {
   "cell_type": "code",
   "execution_count": 3,
   "id": "timely-longitude",
   "metadata": {},
   "outputs": [],
   "source": [
    "import os\n",
    "\n",
    "# create a directory for the training script\n",
    "os.makedirs('train_script', exist_ok=True)"
   ]
  },
  {
   "cell_type": "code",
   "execution_count": 4,
   "id": "wrapped-exhaust",
   "metadata": {},
   "outputs": [
    {
     "name": "stdout",
     "output_type": "stream",
     "text": [
      "Overwriting train_script/train.py\n"
     ]
    }
   ],
   "source": [
    "%%writefile train_script/train.py\n",
    "\n",
    "import argparse\n",
    "import os\n",
    "import pickle\n",
    "\n",
    "import tensorflow.keras as K\n",
    "from tensorflow.keras.preprocessing.image import ImageDataGenerator\n",
    "\n",
    "# output will be logged, separate output from previous log entries.\n",
    "print('-'*100)\n",
    "\n",
    "def parse_args():\n",
    "    parser = argparse.ArgumentParser()\n",
    "    parser.add_argument('--data-path', type=str, \n",
    "                        dest='data_path', \n",
    "                        default='data', \n",
    "                        help='data folder mounting point')\n",
    "\n",
    "    return parser.parse_args()\n",
    "\n",
    "\n",
    "if __name__ == '__main__':\n",
    "\n",
    "    # parse the parameters passed to the this script\n",
    "    args = parse_args()\n",
    "\n",
    "    # set data paths\n",
    "    train_folder = os.path.join(args.data_path, 'train')\n",
    "    val_folder = os.path.join(args.data_path, 'validation')\n",
    "\n",
    "\n",
    "    # Create ImageGenerators\n",
    "    print('Creating train ImageDataGenerator')\n",
    "    train_generator = ImageDataGenerator(rescale=1/255)\\\n",
    "                            .flow_from_directory(train_folder, \n",
    "                                                 batch_size = 32)\n",
    "    val_generator = ImageDataGenerator(rescale=1/255)\\\n",
    "                            .flow_from_directory(val_folder, \n",
    "                                                 batch_size = 32)\n",
    "\n",
    "    # Build the model\n",
    "    model = K.models.Sequential()\n",
    "    model.add(K.layers.Conv2D(32, (2,2), activation='relu'))\n",
    "    model.add(K.layers.MaxPooling2D(2,2))\n",
    "    model.add(K.layers.Flatten())\n",
    "    model.add(K.layers.Dense(6, activation='softmax'))\n",
    "\n",
    "    model.compile(optimizer='adam',\n",
    "                  loss='categorical_crossentropy',\n",
    "                  metrics=['acc'])\n",
    "\n",
    "    # fit model and store history\n",
    "    history = model.fit(train_generator, \n",
    "                        validation_data=val_generator,\n",
    "                        epochs=10)\n",
    "\n",
    "    print('Saving model history...')\n",
    "    with open(f'outputs/model.history', 'wb') as f:\n",
    "        pickle.dump(history.history, f)\n",
    "\n",
    "    print('Saving model...')\n",
    "    model.save(f'outputs/')\n",
    "\n",
    "    print('Done!')\n",
    "    print('-'*100)"
   ]
  },
  {
   "cell_type": "markdown",
   "id": "compound-giant",
   "metadata": {},
   "source": [
    "## Run the Model"
   ]
  },
  {
   "cell_type": "code",
   "execution_count": 5,
   "id": "together-subdivision",
   "metadata": {},
   "outputs": [],
   "source": [
    "from azureml.core import ScriptRunConfig\n",
    "\n",
    "# setup the run details\n",
    "src = ScriptRunConfig(source_directory='train_script',\n",
    "                      script='train.py',\n",
    "                      arguments=['--data-path', dataset.as_mount()],\n",
    "                      compute_target=compute_target,\n",
    "                      environment=env)\n",
    "\n",
    "# Submit the model to azure!\n",
    "run = exp.submit(config=src)"
   ]
  },
  {
   "cell_type": "markdown",
   "id": "noted-alignment",
   "metadata": {},
   "source": [
    "# Download model\n",
    "The model runs asynchronously.  You have to wait for the run to complete to download the files."
   ]
  },
  {
   "cell_type": "code",
   "execution_count": 6,
   "id": "historic-intake",
   "metadata": {},
   "outputs": [
    {
     "data": {
      "text/plain": [
       "'Completed'"
      ]
     },
     "execution_count": 6,
     "metadata": {},
     "output_type": "execute_result"
    }
   ],
   "source": [
    "# Check that the run is complete\n",
    "run.wait_for_completion()\n",
    "run.get_status()"
   ]
  },
  {
   "cell_type": "code",
   "execution_count": 7,
   "id": "legislative-probe",
   "metadata": {},
   "outputs": [],
   "source": [
    "# Download the files.\n",
    "run.download_files(output_directory='cloud_files')"
   ]
  },
  {
   "cell_type": "code",
   "execution_count": 8,
   "id": "passive-charter",
   "metadata": {},
   "outputs": [
    {
     "name": "stdout",
     "output_type": "stream",
     "text": [
      "Model: \"sequential\"\n",
      "_________________________________________________________________\n",
      "Layer (type)                 Output Shape              Param #   \n",
      "=================================================================\n",
      "conv2d (Conv2D)              (None, None, None, 32)    416       \n",
      "_________________________________________________________________\n",
      "max_pooling2d (MaxPooling2D) (None, None, None, 32)    0         \n",
      "_________________________________________________________________\n",
      "flatten (Flatten)            (None, None)              0         \n",
      "_________________________________________________________________\n",
      "dense (Dense)                (None, 6)                 3096774   \n",
      "=================================================================\n",
      "Total params: 3,097,190\n",
      "Trainable params: 3,097,190\n",
      "Non-trainable params: 0\n",
      "_________________________________________________________________\n"
     ]
    }
   ],
   "source": [
    "import tensorflow.keras as K\n",
    "\n",
    "# load the model\n",
    "model = K.models.load_model(f'cloud_files/outputs/')\n",
    "model.summary()"
   ]
  },
  {
   "cell_type": "code",
   "execution_count": 9,
   "id": "aggregate-mongolia",
   "metadata": {},
   "outputs": [
    {
     "data": {
      "text/plain": [
       "<matplotlib.legend.Legend at 0x11a1d5990>"
      ]
     },
     "execution_count": 9,
     "metadata": {},
     "output_type": "execute_result"
    },
    {
     "data": {
      "image/png": "[encoded data removed]",
      "text/plain": [
       "<Figure size 432x288 with 1 Axes>"
      ]
     },
     "metadata": {
      "needs_background": "light"
     },
     "output_type": "display_data"
    }
   ],
   "source": [
    "import pickle\n",
    "import matplotlib.pyplot as plt\n",
    "%matplotlib inline\n",
    "\n",
    "# load model history\n",
    "with open(f'cloud_files/outputs/model.history', 'rb') as fp:\n",
    "    history = pickle.load(fp)\n",
    "    \n",
    "plt.plot(history['acc'], label='Accuracy')\n",
    "plt.plot(history['val_acc'], label='Validation Accuracy')\n",
    "plt.title('Training vs Validation Accuracy')\n",
    "plt.xlabel('Epochs')\n",
    "plt.ylabel('Accuracy')\n",
    "plt.legend()"
   ]
  },
  {
   "cell_type": "code",
   "execution_count": null,
   "id": "hungry-framework",
   "metadata": {},
   "outputs": [],
   "source": []
  }
 ],
 "metadata": {
  "kernelspec": {
   "display_name": "Python [conda env:ml]",
   "language": "python",
   "name": "conda-env-ml-py"
  },
  "language_info": {
   "codemirror_mode": {
    "name": "ipython",
    "version": 3
   },
   "file_extension": ".py",
   "mimetype": "text/x-python",
   "name": "python",
   "nbconvert_exporter": "python",
   "pygments_lexer": "ipython3",
   "version": "3.7.10"
  },
  "toc": {
   "base_numbering": 1,
   "nav_menu": {},
   "number_sections": true,
   "sideBar": true,
   "skip_h1_title": false,
   "title_cell": "Table of Contents",
   "title_sidebar": "Contents",
   "toc_cell": false,
   "toc_position": {},
   "toc_section_display": true,
   "toc_window_display": false
  }
 },
 "nbformat": 4,
 "nbformat_minor": 5
}
